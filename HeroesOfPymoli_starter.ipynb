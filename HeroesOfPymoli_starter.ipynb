{
 "cells": [
  {
   "cell_type": "markdown",
   "metadata": {},
   "source": [
    "### Heroes Of Pymoli Data Analysis\n",
    "* Of the 1163 active players, the vast majority are male (84%). There also exists, a smaller, but notable proportion of female players (14%).\n",
    "\n",
    "* Our peak age demographic falls between 20-24 (44.8%) with secondary groups falling between 15-19 (18.60%) and 25-29 (13.4%).  \n",
    "-----"
   ]
  },
  {
   "cell_type": "markdown",
   "metadata": {},
   "source": [
    "### Note\n",
    "* Instructions have been included for each segment. You do not have to follow them exactly, but they are included to help you think through the steps."
   ]
  },
  {
   "cell_type": "code",
   "execution_count": 1,
   "metadata": {},
   "outputs": [],
   "source": [
    "# Dependencies and Setup\n",
    "import pandas as pd\n",
    "import numpy as np\n",
    "\n",
    "# File to Load (Remember to Change These)\n",
    "file_to_load = \"Resources/purchase_data.csv\"\n",
    "\n",
    "# Read Purchasing File and store into Pandas data frame\n",
    "df = pd.read_csv(file_to_load)"
   ]
  },
  {
   "cell_type": "markdown",
   "metadata": {},
   "source": [
    "## Player Count"
   ]
  },
  {
   "cell_type": "markdown",
   "metadata": {},
   "source": [
    "* Display the total number of players\n"
   ]
  },
  {
   "cell_type": "code",
   "execution_count": 2,
   "metadata": {},
   "outputs": [
    {
     "data": {
      "text/html": [
       "<div>\n",
       "<style scoped>\n",
       "    .dataframe tbody tr th:only-of-type {\n",
       "        vertical-align: middle;\n",
       "    }\n",
       "\n",
       "    .dataframe tbody tr th {\n",
       "        vertical-align: top;\n",
       "    }\n",
       "\n",
       "    .dataframe thead th {\n",
       "        text-align: right;\n",
       "    }\n",
       "</style>\n",
       "<table border=\"1\" class=\"dataframe\">\n",
       "  <thead>\n",
       "    <tr style=\"text-align: right;\">\n",
       "      <th></th>\n",
       "      <th>Total Players</th>\n",
       "    </tr>\n",
       "  </thead>\n",
       "  <tbody>\n",
       "    <tr>\n",
       "      <th>0</th>\n",
       "      <td>576</td>\n",
       "    </tr>\n",
       "  </tbody>\n",
       "</table>\n",
       "</div>"
      ],
      "text/plain": [
       "   Total Players\n",
       "0            576"
      ]
     },
     "execution_count": 2,
     "metadata": {},
     "output_type": "execute_result"
    }
   ],
   "source": [
    "total_players = df['SN'].nunique()\n",
    "player_count = pd.DataFrame({\"Total Players\":[total_players]})\n",
    "player_count"
   ]
  },
  {
   "cell_type": "markdown",
   "metadata": {},
   "source": [
    "## Purchasing Analysis (Total)"
   ]
  },
  {
   "cell_type": "markdown",
   "metadata": {},
   "source": [
    "* Run basic calculations to obtain number of unique items, average price, etc.\n",
    "\n",
    "\n",
    "* Create a summary data frame to hold the results\n",
    "\n",
    "\n",
    "* Optional: give the displayed data cleaner formatting\n",
    "\n",
    "\n",
    "* Display the summary data frame\n"
   ]
  },
  {
   "cell_type": "code",
   "execution_count": 3,
   "metadata": {
    "scrolled": true
   },
   "outputs": [
    {
     "data": {
      "text/html": [
       "<style  type=\"text/css\" >\n",
       "</style>  \n",
       "<table id=\"T_2c23deb4_05a5_11e9_bccb_acbc329fa879\" > \n",
       "<thead>    <tr> \n",
       "        <th class=\"blank level0\" ></th> \n",
       "        <th class=\"col_heading level0 col0\" >Number of Unique Items</th> \n",
       "        <th class=\"col_heading level0 col1\" >Average Price</th> \n",
       "        <th class=\"col_heading level0 col2\" >Number of Purchases</th> \n",
       "        <th class=\"col_heading level0 col3\" >Total Revenue</th> \n",
       "    </tr></thead> \n",
       "<tbody>    <tr> \n",
       "        <th id=\"T_2c23deb4_05a5_11e9_bccb_acbc329fa879level0_row0\" class=\"row_heading level0 row0\" >0</th> \n",
       "        <td id=\"T_2c23deb4_05a5_11e9_bccb_acbc329fa879row0_col0\" class=\"data row0 col0\" >183</td> \n",
       "        <td id=\"T_2c23deb4_05a5_11e9_bccb_acbc329fa879row0_col1\" class=\"data row0 col1\" >$3.05</td> \n",
       "        <td id=\"T_2c23deb4_05a5_11e9_bccb_acbc329fa879row0_col2\" class=\"data row0 col2\" >780</td> \n",
       "        <td id=\"T_2c23deb4_05a5_11e9_bccb_acbc329fa879row0_col3\" class=\"data row0 col3\" >$2,379.77</td> \n",
       "    </tr></tbody> \n",
       "</table> "
      ],
      "text/plain": [
       "<pandas.io.formats.style.Styler at 0x114a32fd0>"
      ]
     },
     "execution_count": 3,
     "metadata": {},
     "output_type": "execute_result"
    }
   ],
   "source": [
    "# Number of Unique Items\n",
    "unique_items = df['Item ID'].nunique()\n",
    "# Total Number of Purchases\n",
    "tot_purch = df['Purchase ID'].count()\n",
    "# Total Revenue\n",
    "sum_price = df['Price'].sum()\n",
    "# Average Purchase Price \n",
    "avg_price = df.Price.mean()\n",
    "summary_table = pd.DataFrame({\"Number of Unique Items\": unique_items,\n",
    "                              \"Average Price\": [avg_price],\n",
    "                              \"Number of Purchases\": [tot_purch],\n",
    "                              \"Total Revenue\": [sum_price]})\n",
    "summary_table\n",
    "# currency style format\n",
    "summary_table.style.format({'Average Price':\"${:,.2f}\",\n",
    "                         'Total Revenue': '${:,.2f}'})"
   ]
  },
  {
   "cell_type": "markdown",
   "metadata": {},
   "source": [
    "## Gender Demographics"
   ]
  },
  {
   "cell_type": "markdown",
   "metadata": {},
   "source": [
    "* Percentage and Count of Male Players\n",
    "\n",
    "\n",
    "* Percentage and Count of Female Players\n",
    "\n",
    "\n",
    "* Percentage and Count of Other / Non-Disclosed\n",
    "\n",
    "\n"
   ]
  },
  {
   "cell_type": "code",
   "execution_count": 4,
   "metadata": {},
   "outputs": [
    {
     "data": {
      "text/html": [
       "<style  type=\"text/css\" >\n",
       "</style>  \n",
       "<table id=\"T_2e162c9a_05a5_11e9_bccb_acbc329fa879\" > \n",
       "<thead>    <tr> \n",
       "        <th class=\"blank level0\" ></th> \n",
       "        <th class=\"col_heading level0 col0\" >Total Count</th> \n",
       "        <th class=\"col_heading level0 col1\" >Percentage of Players</th> \n",
       "    </tr></thead> \n",
       "<tbody>    <tr> \n",
       "        <th id=\"T_2e162c9a_05a5_11e9_bccb_acbc329fa879level0_row0\" class=\"row_heading level0 row0\" >Male</th> \n",
       "        <td id=\"T_2e162c9a_05a5_11e9_bccb_acbc329fa879row0_col0\" class=\"data row0 col0\" >484</td> \n",
       "        <td id=\"T_2e162c9a_05a5_11e9_bccb_acbc329fa879row0_col1\" class=\"data row0 col1\" >84.03</td> \n",
       "    </tr>    <tr> \n",
       "        <th id=\"T_2e162c9a_05a5_11e9_bccb_acbc329fa879level0_row1\" class=\"row_heading level0 row1\" >Female</th> \n",
       "        <td id=\"T_2e162c9a_05a5_11e9_bccb_acbc329fa879row1_col0\" class=\"data row1 col0\" >81</td> \n",
       "        <td id=\"T_2e162c9a_05a5_11e9_bccb_acbc329fa879row1_col1\" class=\"data row1 col1\" >14.06</td> \n",
       "    </tr>    <tr> \n",
       "        <th id=\"T_2e162c9a_05a5_11e9_bccb_acbc329fa879level0_row2\" class=\"row_heading level0 row2\" >Other / Non-Disclosed</th> \n",
       "        <td id=\"T_2e162c9a_05a5_11e9_bccb_acbc329fa879row2_col0\" class=\"data row2 col0\" >11</td> \n",
       "        <td id=\"T_2e162c9a_05a5_11e9_bccb_acbc329fa879row2_col1\" class=\"data row2 col1\" >1.91</td> \n",
       "    </tr></tbody> \n",
       "</table> "
      ],
      "text/plain": [
       "<pandas.io.formats.style.Styler at 0x115dc7780>"
      ]
     },
     "execution_count": 4,
     "metadata": {},
     "output_type": "execute_result"
    }
   ],
   "source": [
    "# Percentage and Count of Male Players\n",
    "# Percentage and Count of Female Players\n",
    "# Percentage and Count of Other / Non-Disclosed\n",
    "absolute = df.groupby(['Gender', 'SN']).count().reset_index()['Gender'].value_counts(normalize=False)\n",
    "normed = df.groupby(['Gender', 'SN']).count().reset_index()['Gender'].value_counts(normalize=True)*100\n",
    "merged_df = pd.concat([absolute, normed], axis = 1)\n",
    "merged_df.columns = ['Total Count', 'Percentage of Players']\n",
    "merged_df\n",
    "merged_df.style.format({'Percentage of Players':\"{:,.2f}\"})"
   ]
  },
  {
   "cell_type": "markdown",
   "metadata": {},
   "source": [
    "\n",
    "## Purchasing Analysis (Gender)"
   ]
  },
  {
   "cell_type": "markdown",
   "metadata": {},
   "source": [
    "* Run basic calculations to obtain purchase count, avg. purchase price, avg. purchase total per person etc. by gender\n",
    "\n",
    "\n",
    "\n",
    "\n",
    "* Create a summary data frame to hold the results\n",
    "\n",
    "\n",
    "* Optional: give the displayed data cleaner formatting\n",
    "\n",
    "\n",
    "* Display the summary data frame"
   ]
  },
  {
   "cell_type": "code",
   "execution_count": 6,
   "metadata": {},
   "outputs": [
    {
     "data": {
      "text/html": [
       "<style  type=\"text/css\" >\n",
       "</style>  \n",
       "<table id=\"T_523f0740_05a5_11e9_bccb_acbc329fa879\" > \n",
       "<thead>    <tr> \n",
       "        <th class=\"blank level0\" ></th> \n",
       "        <th class=\"col_heading level0 col0\" >Purchase Count</th> \n",
       "        <th class=\"col_heading level0 col1\" >Total Purchase Value</th> \n",
       "        <th class=\"col_heading level0 col2\" >Average Purchase Price</th> \n",
       "        <th class=\"col_heading level0 col3\" >Avg Total Purchase per Person</th> \n",
       "    </tr></thead> \n",
       "<tbody>    <tr> \n",
       "        <th id=\"T_523f0740_05a5_11e9_bccb_acbc329fa879level0_row0\" class=\"row_heading level0 row0\" >Female</th> \n",
       "        <td id=\"T_523f0740_05a5_11e9_bccb_acbc329fa879row0_col0\" class=\"data row0 col0\" >113</td> \n",
       "        <td id=\"T_523f0740_05a5_11e9_bccb_acbc329fa879row0_col1\" class=\"data row0 col1\" >$3.20</td> \n",
       "        <td id=\"T_523f0740_05a5_11e9_bccb_acbc329fa879row0_col2\" class=\"data row0 col2\" >$361.94</td> \n",
       "        <td id=\"T_523f0740_05a5_11e9_bccb_acbc329fa879row0_col3\" class=\"data row0 col3\" >$4.47</td> \n",
       "    </tr>    <tr> \n",
       "        <th id=\"T_523f0740_05a5_11e9_bccb_acbc329fa879level0_row1\" class=\"row_heading level0 row1\" >Male</th> \n",
       "        <td id=\"T_523f0740_05a5_11e9_bccb_acbc329fa879row1_col0\" class=\"data row1 col0\" >652</td> \n",
       "        <td id=\"T_523f0740_05a5_11e9_bccb_acbc329fa879row1_col1\" class=\"data row1 col1\" >$3.02</td> \n",
       "        <td id=\"T_523f0740_05a5_11e9_bccb_acbc329fa879row1_col2\" class=\"data row1 col2\" >$1,967.64</td> \n",
       "        <td id=\"T_523f0740_05a5_11e9_bccb_acbc329fa879row1_col3\" class=\"data row1 col3\" >$4.07</td> \n",
       "    </tr>    <tr> \n",
       "        <th id=\"T_523f0740_05a5_11e9_bccb_acbc329fa879level0_row2\" class=\"row_heading level0 row2\" >Other / Non-Disclosed</th> \n",
       "        <td id=\"T_523f0740_05a5_11e9_bccb_acbc329fa879row2_col0\" class=\"data row2 col0\" >15</td> \n",
       "        <td id=\"T_523f0740_05a5_11e9_bccb_acbc329fa879row2_col1\" class=\"data row2 col1\" >$3.35</td> \n",
       "        <td id=\"T_523f0740_05a5_11e9_bccb_acbc329fa879row2_col2\" class=\"data row2 col2\" >$50.19</td> \n",
       "        <td id=\"T_523f0740_05a5_11e9_bccb_acbc329fa879row2_col3\" class=\"data row2 col3\" >$4.56</td> \n",
       "    </tr></tbody> \n",
       "</table> "
      ],
      "text/plain": [
       "<pandas.io.formats.style.Styler at 0x115dc70b8>"
      ]
     },
     "execution_count": 6,
     "metadata": {},
     "output_type": "execute_result"
    }
   ],
   "source": [
    "group_gender = df.groupby('Gender').agg(['count', 'mean', 'sum'])\n",
    "level0 = group_gender.columns.get_level_values(0)\n",
    "level1 = group_gender.columns.get_level_values(1)\n",
    "group_gender.columns = level0 + \"_\" + level1\n",
    "group_gender = group_gender[['Price_count', 'Price_mean', 'Price_sum']]\n",
    "group_gender = pd.concat([group_gender, absolute], axis=1, sort=True)\n",
    "group_gender['Avg Total Purchase per Person'] = group_gender.Price_sum / group_gender.Gender\n",
    "gg_gender_drop = group_gender.drop(['Gender'], axis=1)\n",
    "gg_gender_drop\n",
    "gg_gender_drop.columns = ['Purchase Count', 'Total Purchase Value', 'Average Purchase Price', 'Avg Total Purchase per Person']\n",
    "gg_gender_drop.style.format({'Total Purchase Value':\"${:,.2f}\",\n",
    "                             'Average Purchase Price':\"${:,.2f}\",\n",
    "                             'Avg Total Purchase per Person':\"${:,.2f}\"})\n"
   ]
  },
  {
   "cell_type": "markdown",
   "metadata": {},
   "source": [
    "## Age Demographics"
   ]
  },
  {
   "cell_type": "markdown",
   "metadata": {},
   "source": [
    "* Establish bins for ages\n",
    "\n",
    "\n",
    "* Categorize the existing players using the age bins. Hint: use pd.cut()\n",
    "\n",
    "\n",
    "* Calculate the numbers and percentages by age group\n",
    "\n",
    "\n",
    "* Create a summary data frame to hold the results\n",
    "\n",
    "\n",
    "* Optional: round the percentage column to two decimal points\n",
    "\n",
    "\n",
    "* Display Age Demographics Table\n"
   ]
  },
  {
   "cell_type": "code",
   "execution_count": 76,
   "metadata": {},
   "outputs": [
    {
     "data": {
      "text/html": [
       "<style  type=\"text/css\" >\n",
       "</style>  \n",
       "<table id=\"T_32a18670_05a9_11e9_bccb_acbc329fa879\" > \n",
       "<thead>    <tr> \n",
       "        <th class=\"blank level0\" ></th> \n",
       "        <th class=\"col_heading level0 col0\" >Total Count</th> \n",
       "        <th class=\"col_heading level0 col1\" >Percentage of Players</th> \n",
       "    </tr>    <tr> \n",
       "        <th class=\"index_name level0\" >Age Group</th> \n",
       "        <th class=\"blank\" ></th> \n",
       "        <th class=\"blank\" ></th> \n",
       "    </tr></thead> \n",
       "<tbody>    <tr> \n",
       "        <th id=\"T_32a18670_05a9_11e9_bccb_acbc329fa879level0_row0\" class=\"row_heading level0 row0\" ><10</th> \n",
       "        <td id=\"T_32a18670_05a9_11e9_bccb_acbc329fa879row0_col0\" class=\"data row0 col0\" >17</td> \n",
       "        <td id=\"T_32a18670_05a9_11e9_bccb_acbc329fa879row0_col1\" class=\"data row0 col1\" >2.95</td> \n",
       "    </tr>    <tr> \n",
       "        <th id=\"T_32a18670_05a9_11e9_bccb_acbc329fa879level0_row1\" class=\"row_heading level0 row1\" >10-14</th> \n",
       "        <td id=\"T_32a18670_05a9_11e9_bccb_acbc329fa879row1_col0\" class=\"data row1 col0\" >22</td> \n",
       "        <td id=\"T_32a18670_05a9_11e9_bccb_acbc329fa879row1_col1\" class=\"data row1 col1\" >3.82</td> \n",
       "    </tr>    <tr> \n",
       "        <th id=\"T_32a18670_05a9_11e9_bccb_acbc329fa879level0_row2\" class=\"row_heading level0 row2\" >15-19</th> \n",
       "        <td id=\"T_32a18670_05a9_11e9_bccb_acbc329fa879row2_col0\" class=\"data row2 col0\" >107</td> \n",
       "        <td id=\"T_32a18670_05a9_11e9_bccb_acbc329fa879row2_col1\" class=\"data row2 col1\" >18.58</td> \n",
       "    </tr>    <tr> \n",
       "        <th id=\"T_32a18670_05a9_11e9_bccb_acbc329fa879level0_row3\" class=\"row_heading level0 row3\" >20-24</th> \n",
       "        <td id=\"T_32a18670_05a9_11e9_bccb_acbc329fa879row3_col0\" class=\"data row3 col0\" >258</td> \n",
       "        <td id=\"T_32a18670_05a9_11e9_bccb_acbc329fa879row3_col1\" class=\"data row3 col1\" >44.79</td> \n",
       "    </tr>    <tr> \n",
       "        <th id=\"T_32a18670_05a9_11e9_bccb_acbc329fa879level0_row4\" class=\"row_heading level0 row4\" >25-29</th> \n",
       "        <td id=\"T_32a18670_05a9_11e9_bccb_acbc329fa879row4_col0\" class=\"data row4 col0\" >77</td> \n",
       "        <td id=\"T_32a18670_05a9_11e9_bccb_acbc329fa879row4_col1\" class=\"data row4 col1\" >13.37</td> \n",
       "    </tr>    <tr> \n",
       "        <th id=\"T_32a18670_05a9_11e9_bccb_acbc329fa879level0_row5\" class=\"row_heading level0 row5\" >30-34</th> \n",
       "        <td id=\"T_32a18670_05a9_11e9_bccb_acbc329fa879row5_col0\" class=\"data row5 col0\" >52</td> \n",
       "        <td id=\"T_32a18670_05a9_11e9_bccb_acbc329fa879row5_col1\" class=\"data row5 col1\" >9.03</td> \n",
       "    </tr>    <tr> \n",
       "        <th id=\"T_32a18670_05a9_11e9_bccb_acbc329fa879level0_row6\" class=\"row_heading level0 row6\" >35-39</th> \n",
       "        <td id=\"T_32a18670_05a9_11e9_bccb_acbc329fa879row6_col0\" class=\"data row6 col0\" >31</td> \n",
       "        <td id=\"T_32a18670_05a9_11e9_bccb_acbc329fa879row6_col1\" class=\"data row6 col1\" >5.38</td> \n",
       "    </tr>    <tr> \n",
       "        <th id=\"T_32a18670_05a9_11e9_bccb_acbc329fa879level0_row7\" class=\"row_heading level0 row7\" >40+</th> \n",
       "        <td id=\"T_32a18670_05a9_11e9_bccb_acbc329fa879row7_col0\" class=\"data row7 col0\" >12</td> \n",
       "        <td id=\"T_32a18670_05a9_11e9_bccb_acbc329fa879row7_col1\" class=\"data row7 col1\" >2.08</td> \n",
       "    </tr></tbody> \n",
       "</table> "
      ],
      "text/plain": [
       "<pandas.io.formats.style.Styler at 0x115e86f60>"
      ]
     },
     "execution_count": 76,
     "metadata": {},
     "output_type": "execute_result"
    }
   ],
   "source": [
    "#Establish bins for ages\n",
    "bins = [0, 9.90, 14.90, 19.90, 24.90, 29.90, 34.90, 39.90, 99999]\n",
    "age_groups = [\"<10\", \"10-14\", \"15-19\", \"20-24\", \"25-29\", \"30-34\", \"35-39\", \"40+\"]\n",
    "\n",
    "#Categorize the existing players using the age bins. Hint: use pd.cut()\n",
    "df['Age Group'] = pd.cut(df['Age'], bins, labels=age_groups)\n",
    "age_grouped = df.groupby('Age Group')\n",
    "\n",
    "\n",
    "#Calculate the numbers and percentages by age group\n",
    "count_tot_age = age_grouped['SN'].nunique()\n",
    "#count_tot_age\n",
    "total_players = df['SN'].nunique()\n",
    "#total_players\n",
    "percentage_age = (count_tot_age / total_players) * 100\n",
    "#Create a summary data frame to hold the results\n",
    "age_demographics = pd.DataFrame({'Total Count': count_tot_age, 'Percentage of Players': percentage_age})\n",
    "age_demographics.style.format({'Percentage of Players':\"{:,.2f}\"})\n",
    "#Optional: round the percentage column to two decimal points\n",
    "#Display Age Demographics Table"
   ]
  },
  {
   "cell_type": "markdown",
   "metadata": {},
   "source": [
    "## Purchasing Analysis (Age)"
   ]
  },
  {
   "cell_type": "markdown",
   "metadata": {},
   "source": [
    "* Bin the purchase_data data frame by age\n",
    "\n",
    "\n",
    "* Run basic calculations to obtain purchase count, avg. purchase price, avg. purchase total per person etc. in the table below\n",
    "\n",
    "\n",
    "* Create a summary data frame to hold the results\n",
    "\n",
    "\n",
    "* Optional: give the displayed data cleaner formatting\n",
    "\n",
    "\n",
    "* Display the summary data frame"
   ]
  },
  {
   "cell_type": "code",
   "execution_count": 75,
   "metadata": {},
   "outputs": [
    {
     "data": {
      "text/html": [
       "<style  type=\"text/css\" >\n",
       "</style>  \n",
       "<table id=\"T_2e4fcb36_05a9_11e9_bccb_acbc329fa879\" > \n",
       "<thead>    <tr> \n",
       "        <th class=\"blank level0\" ></th> \n",
       "        <th class=\"col_heading level0 col0\" >\tPurchase Count</th> \n",
       "        <th class=\"col_heading level0 col1\" >Average Purchase Price</th> \n",
       "        <th class=\"col_heading level0 col2\" >Total Purchase Value</th> \n",
       "        <th class=\"col_heading level0 col3\" >Avg Total Purchase per Person</th> \n",
       "    </tr>    <tr> \n",
       "        <th class=\"index_name level0\" >Age Group</th> \n",
       "        <th class=\"blank\" ></th> \n",
       "        <th class=\"blank\" ></th> \n",
       "        <th class=\"blank\" ></th> \n",
       "        <th class=\"blank\" ></th> \n",
       "    </tr></thead> \n",
       "<tbody>    <tr> \n",
       "        <th id=\"T_2e4fcb36_05a9_11e9_bccb_acbc329fa879level0_row0\" class=\"row_heading level0 row0\" ><10</th> \n",
       "        <td id=\"T_2e4fcb36_05a9_11e9_bccb_acbc329fa879row0_col0\" class=\"data row0 col0\" >23</td> \n",
       "        <td id=\"T_2e4fcb36_05a9_11e9_bccb_acbc329fa879row0_col1\" class=\"data row0 col1\" >$3.35</td> \n",
       "        <td id=\"T_2e4fcb36_05a9_11e9_bccb_acbc329fa879row0_col2\" class=\"data row0 col2\" >$77.13</td> \n",
       "        <td id=\"T_2e4fcb36_05a9_11e9_bccb_acbc329fa879row0_col3\" class=\"data row0 col3\" >$4.54</td> \n",
       "    </tr>    <tr> \n",
       "        <th id=\"T_2e4fcb36_05a9_11e9_bccb_acbc329fa879level0_row1\" class=\"row_heading level0 row1\" >10-14</th> \n",
       "        <td id=\"T_2e4fcb36_05a9_11e9_bccb_acbc329fa879row1_col0\" class=\"data row1 col0\" >28</td> \n",
       "        <td id=\"T_2e4fcb36_05a9_11e9_bccb_acbc329fa879row1_col1\" class=\"data row1 col1\" >$2.96</td> \n",
       "        <td id=\"T_2e4fcb36_05a9_11e9_bccb_acbc329fa879row1_col2\" class=\"data row1 col2\" >$82.78</td> \n",
       "        <td id=\"T_2e4fcb36_05a9_11e9_bccb_acbc329fa879row1_col3\" class=\"data row1 col3\" >$3.76</td> \n",
       "    </tr>    <tr> \n",
       "        <th id=\"T_2e4fcb36_05a9_11e9_bccb_acbc329fa879level0_row2\" class=\"row_heading level0 row2\" >15-19</th> \n",
       "        <td id=\"T_2e4fcb36_05a9_11e9_bccb_acbc329fa879row2_col0\" class=\"data row2 col0\" >136</td> \n",
       "        <td id=\"T_2e4fcb36_05a9_11e9_bccb_acbc329fa879row2_col1\" class=\"data row2 col1\" >$3.04</td> \n",
       "        <td id=\"T_2e4fcb36_05a9_11e9_bccb_acbc329fa879row2_col2\" class=\"data row2 col2\" >$412.89</td> \n",
       "        <td id=\"T_2e4fcb36_05a9_11e9_bccb_acbc329fa879row2_col3\" class=\"data row2 col3\" >$3.86</td> \n",
       "    </tr>    <tr> \n",
       "        <th id=\"T_2e4fcb36_05a9_11e9_bccb_acbc329fa879level0_row3\" class=\"row_heading level0 row3\" >20-24</th> \n",
       "        <td id=\"T_2e4fcb36_05a9_11e9_bccb_acbc329fa879row3_col0\" class=\"data row3 col0\" >365</td> \n",
       "        <td id=\"T_2e4fcb36_05a9_11e9_bccb_acbc329fa879row3_col1\" class=\"data row3 col1\" >$3.05</td> \n",
       "        <td id=\"T_2e4fcb36_05a9_11e9_bccb_acbc329fa879row3_col2\" class=\"data row3 col2\" >$1,114.06</td> \n",
       "        <td id=\"T_2e4fcb36_05a9_11e9_bccb_acbc329fa879row3_col3\" class=\"data row3 col3\" >$4.32</td> \n",
       "    </tr>    <tr> \n",
       "        <th id=\"T_2e4fcb36_05a9_11e9_bccb_acbc329fa879level0_row4\" class=\"row_heading level0 row4\" >25-29</th> \n",
       "        <td id=\"T_2e4fcb36_05a9_11e9_bccb_acbc329fa879row4_col0\" class=\"data row4 col0\" >101</td> \n",
       "        <td id=\"T_2e4fcb36_05a9_11e9_bccb_acbc329fa879row4_col1\" class=\"data row4 col1\" >$2.90</td> \n",
       "        <td id=\"T_2e4fcb36_05a9_11e9_bccb_acbc329fa879row4_col2\" class=\"data row4 col2\" >$293.00</td> \n",
       "        <td id=\"T_2e4fcb36_05a9_11e9_bccb_acbc329fa879row4_col3\" class=\"data row4 col3\" >$3.81</td> \n",
       "    </tr>    <tr> \n",
       "        <th id=\"T_2e4fcb36_05a9_11e9_bccb_acbc329fa879level0_row5\" class=\"row_heading level0 row5\" >30-34</th> \n",
       "        <td id=\"T_2e4fcb36_05a9_11e9_bccb_acbc329fa879row5_col0\" class=\"data row5 col0\" >73</td> \n",
       "        <td id=\"T_2e4fcb36_05a9_11e9_bccb_acbc329fa879row5_col1\" class=\"data row5 col1\" >$2.93</td> \n",
       "        <td id=\"T_2e4fcb36_05a9_11e9_bccb_acbc329fa879row5_col2\" class=\"data row5 col2\" >$214.00</td> \n",
       "        <td id=\"T_2e4fcb36_05a9_11e9_bccb_acbc329fa879row5_col3\" class=\"data row5 col3\" >$4.12</td> \n",
       "    </tr>    <tr> \n",
       "        <th id=\"T_2e4fcb36_05a9_11e9_bccb_acbc329fa879level0_row6\" class=\"row_heading level0 row6\" >35-39</th> \n",
       "        <td id=\"T_2e4fcb36_05a9_11e9_bccb_acbc329fa879row6_col0\" class=\"data row6 col0\" >41</td> \n",
       "        <td id=\"T_2e4fcb36_05a9_11e9_bccb_acbc329fa879row6_col1\" class=\"data row6 col1\" >$3.60</td> \n",
       "        <td id=\"T_2e4fcb36_05a9_11e9_bccb_acbc329fa879row6_col2\" class=\"data row6 col2\" >$147.67</td> \n",
       "        <td id=\"T_2e4fcb36_05a9_11e9_bccb_acbc329fa879row6_col3\" class=\"data row6 col3\" >$4.76</td> \n",
       "    </tr>    <tr> \n",
       "        <th id=\"T_2e4fcb36_05a9_11e9_bccb_acbc329fa879level0_row7\" class=\"row_heading level0 row7\" >40+</th> \n",
       "        <td id=\"T_2e4fcb36_05a9_11e9_bccb_acbc329fa879row7_col0\" class=\"data row7 col0\" >13</td> \n",
       "        <td id=\"T_2e4fcb36_05a9_11e9_bccb_acbc329fa879row7_col1\" class=\"data row7 col1\" >$2.94</td> \n",
       "        <td id=\"T_2e4fcb36_05a9_11e9_bccb_acbc329fa879row7_col2\" class=\"data row7 col2\" >$38.24</td> \n",
       "        <td id=\"T_2e4fcb36_05a9_11e9_bccb_acbc329fa879row7_col3\" class=\"data row7 col3\" >$3.19</td> \n",
       "    </tr></tbody> \n",
       "</table> "
      ],
      "text/plain": [
       "<pandas.io.formats.style.Styler at 0x115e864a8>"
      ]
     },
     "execution_count": 75,
     "metadata": {},
     "output_type": "execute_result"
    }
   ],
   "source": [
    "#Categorize the existing players using the age bins. Hint: use pd.cut()\n",
    "df['Age Group'] = pd.cut(df['Age'], bins, labels=age_groups)\n",
    "age_grouped = df.groupby('Age Group')\n",
    "count_tot_age = age_grouped['SN'].nunique()\n",
    "\n",
    "#Run basic calculations to obtain purchase count, avg. purchase price, avg. purchase total per person etc. in the table below\n",
    "count_purch = age_grouped['Purchase ID'].nunique()\n",
    "avg_purch_price = age_grouped['Price'].mean()\n",
    "tot_purch_value = age_grouped['Price'].sum()\n",
    "avg_total_pp = tot_purch_value / count_tot_age\n",
    "\n",
    "#Create a summary data frame to hold the results\n",
    "summary_table = pd.DataFrame({\"\tPurchase Count\": count_purch,\n",
    "                              \"Average Purchase Price\": avg_purch_price,\n",
    "                              \"Total Purchase Value\": tot_purch_value,\n",
    "                              \"Avg Total Purchase per Person\": avg_total_pp})\n",
    "\n",
    "#Optional: give the displayed data cleaner formatting\n",
    "#Display the summary data frame\n",
    "summary_table.style.format({'Average Purchase Price':\"${:,.2f}\",\n",
    "                            'Total Purchase Value':\"${:,.2f}\",\n",
    "                            'Avg Total Purchase per Person':\"${:,.2f}\"})\n"
   ]
  },
  {
   "cell_type": "markdown",
   "metadata": {},
   "source": [
    "## Top Spenders"
   ]
  },
  {
   "cell_type": "markdown",
   "metadata": {},
   "source": [
    "* Run basic calculations to obtain the results in the table below\n",
    "\n",
    "\n",
    "* Create a summary data frame to hold the results\n",
    "\n",
    "\n",
    "* Sort the total purchase value column in descending order\n",
    "\n",
    "\n",
    "* Optional: give the displayed data cleaner formatting\n",
    "\n",
    "\n",
    "* Display a preview of the summary data frame\n",
    "\n"
   ]
  },
  {
   "cell_type": "code",
   "execution_count": 74,
   "metadata": {},
   "outputs": [
    {
     "data": {
      "text/html": [
       "<div>\n",
       "<style scoped>\n",
       "    .dataframe tbody tr th:only-of-type {\n",
       "        vertical-align: middle;\n",
       "    }\n",
       "\n",
       "    .dataframe tbody tr th {\n",
       "        vertical-align: top;\n",
       "    }\n",
       "\n",
       "    .dataframe thead th {\n",
       "        text-align: right;\n",
       "    }\n",
       "</style>\n",
       "<table border=\"1\" class=\"dataframe\">\n",
       "  <thead>\n",
       "    <tr style=\"text-align: right;\">\n",
       "      <th></th>\n",
       "      <th>Purchase Count</th>\n",
       "      <th>Average Purchase Price</th>\n",
       "      <th>Total Purchase Value</th>\n",
       "    </tr>\n",
       "    <tr>\n",
       "      <th>SN</th>\n",
       "      <th></th>\n",
       "      <th></th>\n",
       "      <th></th>\n",
       "    </tr>\n",
       "  </thead>\n",
       "  <tbody>\n",
       "    <tr>\n",
       "      <th>Lisosia93</th>\n",
       "      <td>5</td>\n",
       "      <td>3.792000</td>\n",
       "      <td>18.96</td>\n",
       "    </tr>\n",
       "    <tr>\n",
       "      <th>Idastidru52</th>\n",
       "      <td>4</td>\n",
       "      <td>3.862500</td>\n",
       "      <td>15.45</td>\n",
       "    </tr>\n",
       "    <tr>\n",
       "      <th>Chamjask73</th>\n",
       "      <td>3</td>\n",
       "      <td>4.610000</td>\n",
       "      <td>13.83</td>\n",
       "    </tr>\n",
       "    <tr>\n",
       "      <th>Iral74</th>\n",
       "      <td>4</td>\n",
       "      <td>3.405000</td>\n",
       "      <td>13.62</td>\n",
       "    </tr>\n",
       "    <tr>\n",
       "      <th>Iskadarya95</th>\n",
       "      <td>3</td>\n",
       "      <td>4.366667</td>\n",
       "      <td>13.10</td>\n",
       "    </tr>\n",
       "  </tbody>\n",
       "</table>\n",
       "</div>"
      ],
      "text/plain": [
       "             Purchase Count  Average Purchase Price  Total Purchase Value\n",
       "SN                                                                       \n",
       "Lisosia93                 5                3.792000                 18.96\n",
       "Idastidru52               4                3.862500                 15.45\n",
       "Chamjask73                3                4.610000                 13.83\n",
       "Iral74                    4                3.405000                 13.62\n",
       "Iskadarya95               3                4.366667                 13.10"
      ]
     },
     "execution_count": 74,
     "metadata": {},
     "output_type": "execute_result"
    }
   ],
   "source": [
    "#Top Spenders\n",
    "\n",
    "#Run basic calculations to obtain the results in the table below\n",
    "sn_grouped = df.groupby('SN')\n",
    "count_tot_purch = sn_grouped['Purchase ID'].nunique()\n",
    "#count_tot_purch\n",
    "avg_purch_price = sn_grouped['Price'].mean()\n",
    "#avg_purch_price\n",
    "tot_purch_val = sn_grouped['Price'].sum() #count_tot_purch * avg_purch_price  <---other way to compute?\n",
    "#tot_purch_val\n",
    "#Create a summary data frame to hold the results\n",
    "summary_table = pd.DataFrame({\"Purchase Count\": count_tot_purch,\n",
    "                              \"Average Purchase Price\": avg_purch_price,\n",
    "                              \"Total Purchase Value\": tot_purch_val,\n",
    "                              })\n",
    "\n",
    "#Sort the total purchase value column in descending order\n",
    "\n",
    "summary_table.sort_values(by=['Total Purchase Value'], ascending=False).head()\n",
    "#Optional: give the displayed data cleaner formatting\n",
    "#Display a preview of the summary data frame\n",
    "\n",
    "\n"
   ]
  },
  {
   "cell_type": "markdown",
   "metadata": {},
   "source": [
    "## Most Popular Items"
   ]
  },
  {
   "cell_type": "markdown",
   "metadata": {},
   "source": [
    "* Retrieve the Item ID, Item Name, and Item Price columns\n",
    "\n",
    "\n",
    "* Group by Item ID and Item Name. Perform calculations to obtain purchase count, item price, and total purchase value\n",
    "\n",
    "\n",
    "* Create a summary data frame to hold the results\n",
    "\n",
    "\n",
    "* Sort the purchase count column in descending order\n",
    "\n",
    "\n",
    "* Optional: give the displayed data cleaner formatting\n",
    "\n",
    "\n",
    "* Display a preview of the summary data frame\n",
    "\n"
   ]
  },
  {
   "cell_type": "code",
   "execution_count": 73,
   "metadata": {},
   "outputs": [
    {
     "data": {
      "text/html": [
       "<div>\n",
       "<style scoped>\n",
       "    .dataframe tbody tr th:only-of-type {\n",
       "        vertical-align: middle;\n",
       "    }\n",
       "\n",
       "    .dataframe tbody tr th {\n",
       "        vertical-align: top;\n",
       "    }\n",
       "\n",
       "    .dataframe thead th {\n",
       "        text-align: right;\n",
       "    }\n",
       "</style>\n",
       "<table border=\"1\" class=\"dataframe\">\n",
       "  <thead>\n",
       "    <tr style=\"text-align: right;\">\n",
       "      <th></th>\n",
       "      <th></th>\n",
       "      <th>Purchase Count</th>\n",
       "      <th>Item Price</th>\n",
       "      <th>Total Purchase Value</th>\n",
       "    </tr>\n",
       "    <tr>\n",
       "      <th>Item ID</th>\n",
       "      <th>Item Name</th>\n",
       "      <th></th>\n",
       "      <th></th>\n",
       "      <th></th>\n",
       "    </tr>\n",
       "  </thead>\n",
       "  <tbody>\n",
       "    <tr>\n",
       "      <th>178</th>\n",
       "      <th>Oathbreaker, Last Hope of the Breaking Storm</th>\n",
       "      <td>12</td>\n",
       "      <td>4.23</td>\n",
       "      <td>50.76</td>\n",
       "    </tr>\n",
       "    <tr>\n",
       "      <th>145</th>\n",
       "      <th>Fiery Glass Crusader</th>\n",
       "      <td>9</td>\n",
       "      <td>4.58</td>\n",
       "      <td>41.22</td>\n",
       "    </tr>\n",
       "    <tr>\n",
       "      <th>108</th>\n",
       "      <th>Extraction, Quickblade Of Trembling Hands</th>\n",
       "      <td>9</td>\n",
       "      <td>3.53</td>\n",
       "      <td>31.77</td>\n",
       "    </tr>\n",
       "    <tr>\n",
       "      <th>82</th>\n",
       "      <th>Nirvana</th>\n",
       "      <td>9</td>\n",
       "      <td>4.90</td>\n",
       "      <td>44.10</td>\n",
       "    </tr>\n",
       "    <tr>\n",
       "      <th>19</th>\n",
       "      <th>Pursuit, Cudgel of Necromancy</th>\n",
       "      <td>8</td>\n",
       "      <td>1.02</td>\n",
       "      <td>8.16</td>\n",
       "    </tr>\n",
       "  </tbody>\n",
       "</table>\n",
       "</div>"
      ],
      "text/plain": [
       "                                                      Purchase Count  \\\n",
       "Item ID Item Name                                                      \n",
       "178     Oathbreaker, Last Hope of the Breaking Storm              12   \n",
       "145     Fiery Glass Crusader                                       9   \n",
       "108     Extraction, Quickblade Of Trembling Hands                  9   \n",
       "82      Nirvana                                                    9   \n",
       "19      Pursuit, Cudgel of Necromancy                              8   \n",
       "\n",
       "                                                      Item Price  \\\n",
       "Item ID Item Name                                                  \n",
       "178     Oathbreaker, Last Hope of the Breaking Storm        4.23   \n",
       "145     Fiery Glass Crusader                                4.58   \n",
       "108     Extraction, Quickblade Of Trembling Hands           3.53   \n",
       "82      Nirvana                                             4.90   \n",
       "19      Pursuit, Cudgel of Necromancy                       1.02   \n",
       "\n",
       "                                                      Total Purchase Value  \n",
       "Item ID Item Name                                                           \n",
       "178     Oathbreaker, Last Hope of the Breaking Storm                 50.76  \n",
       "145     Fiery Glass Crusader                                         41.22  \n",
       "108     Extraction, Quickblade Of Trembling Hands                    31.77  \n",
       "82      Nirvana                                                      44.10  \n",
       "19      Pursuit, Cudgel of Necromancy                                 8.16  "
      ]
     },
     "execution_count": 73,
     "metadata": {},
     "output_type": "execute_result"
    }
   ],
   "source": [
    "#Retrieve the Item ID, Item Name, and Item Price columns\n",
    "top_table = df[[\"Item ID\", \"Item Name\", \"Price\"]]\n",
    "#top_table.head()\n",
    "#Group by Item ID and Item Name.\n",
    "itemid_grouped = top_table.groupby(['Item ID','Item Name'])\n",
    "\n",
    "#Perform calculations to obtain purchase count, item price, and total purchase value\n",
    "count_purch = itemid_grouped['Price'].count()\n",
    "purch_value = itemid_grouped['Price'].sum()\n",
    "item_price = purch_value/count_purch\n",
    "#tot_purch_value = \n",
    "#Create a summary data frame to hold the results\n",
    "summary_table = pd.DataFrame({\"Purchase Count\": count_purch,\n",
    "                              \"Item Price\": item_price,\n",
    "                              \"Total Purchase Value\": purch_value,\n",
    "                                })\n",
    "\n",
    "#Sort the purchase count column in descending order\n",
    "popular_formatted = summary_table.sort_values([\"Purchase Count\"], ascending=False)\n",
    "#Optional: give the displayed data cleaner formatting\n",
    "#Display a preview of the summary data frame\n",
    "popular_formatted.head()\n"
   ]
  },
  {
   "cell_type": "markdown",
   "metadata": {},
   "source": [
    "## Most Profitable Items"
   ]
  },
  {
   "cell_type": "markdown",
   "metadata": {},
   "source": [
    "* Sort the above table by total purchase value in descending order\n",
    "\n",
    "\n",
    "* Optional: give the displayed data cleaner formatting\n",
    "\n",
    "\n",
    "* Display a preview of the data frame\n",
    "\n"
   ]
  },
  {
   "cell_type": "code",
   "execution_count": 72,
   "metadata": {
    "scrolled": true
   },
   "outputs": [
    {
     "data": {
      "text/html": [
       "<div>\n",
       "<style scoped>\n",
       "    .dataframe tbody tr th:only-of-type {\n",
       "        vertical-align: middle;\n",
       "    }\n",
       "\n",
       "    .dataframe tbody tr th {\n",
       "        vertical-align: top;\n",
       "    }\n",
       "\n",
       "    .dataframe thead th {\n",
       "        text-align: right;\n",
       "    }\n",
       "</style>\n",
       "<table border=\"1\" class=\"dataframe\">\n",
       "  <thead>\n",
       "    <tr style=\"text-align: right;\">\n",
       "      <th></th>\n",
       "      <th></th>\n",
       "      <th>Purchase Count</th>\n",
       "      <th>Item Price</th>\n",
       "      <th>Total Purchase Value</th>\n",
       "    </tr>\n",
       "    <tr>\n",
       "      <th>Item ID</th>\n",
       "      <th>Item Name</th>\n",
       "      <th></th>\n",
       "      <th></th>\n",
       "      <th></th>\n",
       "    </tr>\n",
       "  </thead>\n",
       "  <tbody>\n",
       "    <tr>\n",
       "      <th>178</th>\n",
       "      <th>Oathbreaker, Last Hope of the Breaking Storm</th>\n",
       "      <td>12</td>\n",
       "      <td>4.23</td>\n",
       "      <td>50.76</td>\n",
       "    </tr>\n",
       "    <tr>\n",
       "      <th>82</th>\n",
       "      <th>Nirvana</th>\n",
       "      <td>9</td>\n",
       "      <td>4.90</td>\n",
       "      <td>44.10</td>\n",
       "    </tr>\n",
       "    <tr>\n",
       "      <th>145</th>\n",
       "      <th>Fiery Glass Crusader</th>\n",
       "      <td>9</td>\n",
       "      <td>4.58</td>\n",
       "      <td>41.22</td>\n",
       "    </tr>\n",
       "    <tr>\n",
       "      <th>92</th>\n",
       "      <th>Final Critic</th>\n",
       "      <td>8</td>\n",
       "      <td>4.88</td>\n",
       "      <td>39.04</td>\n",
       "    </tr>\n",
       "    <tr>\n",
       "      <th>103</th>\n",
       "      <th>Singed Scalpel</th>\n",
       "      <td>8</td>\n",
       "      <td>4.35</td>\n",
       "      <td>34.80</td>\n",
       "    </tr>\n",
       "  </tbody>\n",
       "</table>\n",
       "</div>"
      ],
      "text/plain": [
       "                                                      Purchase Count  \\\n",
       "Item ID Item Name                                                      \n",
       "178     Oathbreaker, Last Hope of the Breaking Storm              12   \n",
       "82      Nirvana                                                    9   \n",
       "145     Fiery Glass Crusader                                       9   \n",
       "92      Final Critic                                               8   \n",
       "103     Singed Scalpel                                             8   \n",
       "\n",
       "                                                      Item Price  \\\n",
       "Item ID Item Name                                                  \n",
       "178     Oathbreaker, Last Hope of the Breaking Storm        4.23   \n",
       "82      Nirvana                                             4.90   \n",
       "145     Fiery Glass Crusader                                4.58   \n",
       "92      Final Critic                                        4.88   \n",
       "103     Singed Scalpel                                      4.35   \n",
       "\n",
       "                                                      Total Purchase Value  \n",
       "Item ID Item Name                                                           \n",
       "178     Oathbreaker, Last Hope of the Breaking Storm                 50.76  \n",
       "82      Nirvana                                                      44.10  \n",
       "145     Fiery Glass Crusader                                         41.22  \n",
       "92      Final Critic                                                 39.04  \n",
       "103     Singed Scalpel                                               34.80  "
      ]
     },
     "execution_count": 72,
     "metadata": {},
     "output_type": "execute_result"
    }
   ],
   "source": [
    "#Most Profitable Items\n",
    "\n",
    "#Sort the above table by total purchase value in descending order\n",
    "tot_purch_formatted = summary_table.sort_values([\"Total Purchase Value\"], ascending=False).head()\n",
    "#Optional: give the displayed data cleaner formatting\n",
    "#Display a preview of the data frame\n",
    "tot_purch_formatted"
   ]
  },
  {
   "cell_type": "code",
   "execution_count": null,
   "metadata": {},
   "outputs": [],
   "source": []
  }
 ],
 "metadata": {
  "anaconda-cloud": {},
  "kernel_info": {
   "name": "python3"
  },
  "kernelspec": {
   "display_name": "Python 3",
   "language": "python",
   "name": "python3"
  },
  "language_info": {
   "codemirror_mode": {
    "name": "ipython",
    "version": 3
   },
   "file_extension": ".py",
   "mimetype": "text/x-python",
   "name": "python",
   "nbconvert_exporter": "python",
   "pygments_lexer": "ipython3",
   "version": "3.7.0"
  },
  "nteract": {
   "version": "0.2.0"
  }
 },
 "nbformat": 4,
 "nbformat_minor": 2
}
